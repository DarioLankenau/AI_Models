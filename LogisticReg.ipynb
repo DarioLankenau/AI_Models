{
  "nbformat": 4,
  "nbformat_minor": 0,
  "metadata": {
    "colab": {
      "provenance": [],
      "collapsed_sections": [],
      "authorship_tag": "ABX9TyNbFnNsqMMnwf4ODoubNPYw",
      "include_colab_link": true
    },
    "kernelspec": {
      "name": "python3",
      "display_name": "Python 3"
    },
    "language_info": {
      "name": "python"
    }
  },
  "cells": [
    {
      "cell_type": "markdown",
      "metadata": {
        "id": "view-in-github",
        "colab_type": "text"
      },
      "source": [
        "<a href=\"https://colab.research.google.com/github/DarioLankenau/AI_Models/blob/main/LogisticReg.ipynb\" target=\"_parent\"><img src=\"https://colab.research.google.com/assets/colab-badge.svg\" alt=\"Open In Colab\"/></a>"
      ]
    },
    {
      "cell_type": "code",
      "execution_count": null,
      "metadata": {
        "id": "pxSCrISs9Hs0",
        "colab": {
          "base_uri": "https://localhost:8080/",
          "height": 265
        },
        "outputId": "32fc5c43-fee4-4899-cf8d-940f178c75b3"
      },
      "outputs": [
        {
          "output_type": "display_data",
          "data": {
            "text/plain": [
              "<Figure size 432x288 with 1 Axes>"
            ],
            "image/png": "[encoded data removed]"
          },
          "metadata": {
            "needs_background": "light"
          }
        }
      ],
      "source": [
        "from numpy import ma\n",
        "import math\n",
        "import matplotlib.pyplot as plt\n",
        "from sklearn.model_selection import train_test_split\n",
        "import pandas as pd\n",
        "import numpy as np\n",
        "from numpy import asarray\n",
        "from sklearn.metrics import multilabel_confusion_matrix\n",
        "from sklearn.preprocessing import OneHotEncoder\n",
        "from sklearn.metrics import classification_report\n",
        "import seaborn as sns\n",
        "\n",
        "\n",
        "columns = [\"Class\",\"Alcohol\",\"Malic acid\",\"Ash\",\"Alcalinity of ash\", \"Magnesium\", \"Total phenols\", \"Flavanoids\", \"Nonflavanoid phenols\", \"Proanthocyanins\", \"Color intesity\", \"Hue\", \"OD280/OD315 of diluted wines\", \"Proline\"]\n",
        "df = pd.read_csv('wine.data',names = columns)\n",
        "\n",
        "# define one hot encoding\n",
        "encoder = OneHotEncoder(sparse=False)\n",
        "# transform data\n",
        "\n",
        "x_T = df[[\"Flavanoids\"]]\n",
        "x_T = x_T.to_numpy()\n",
        "y_T = df[[\"Class\"]]\n",
        "y_T = y_T.to_numpy()\n",
        "x_train, x_test, y_train, y_test = train_test_split(x_T, y_T, test_size=0.15)\n",
        "\n",
        "onehot = encoder.fit_transform(y_test.reshape(-1,1))\n",
        "y_train = onehot\n",
        "y_test = onehot\n",
        "\n",
        "alpha = 0.008\n",
        "\n",
        "h   = lambda x,theta: 1/(1+np.exp(-(theta[0] + theta[1] * x)))\n",
        "j_i = lambda x,y,theta: y*np.log(h(x,theta)) + (1-y)*np.log(1-h(x,theta))\n",
        "\n",
        "plt.scatter(x_T,y_T)\n",
        "plt.show()\n",
        "n = len(y_train)"
      ]
    },
    {
      "cell_type": "code",
      "source": [
        "theta = [1,1] # Cambiar dependiendo del orden del modelo (un theta para cada dimensión de nuestros datos + 1)\n",
        "\n",
        "for idx in range(23000):\n",
        "  acumDelta = []\n",
        "  acumDeltax = []\n",
        "  for x_i,y_i in zip(x_train,y_train):\n",
        "    acumDelta.append(h(x_i,theta)-y_i)\n",
        "    acumDeltax.append((h(x_i,theta)-y_i)*x_i)\n",
        "    \n",
        "  st0 = sum(acumDelta)\n",
        "  st1 = sum(acumDeltax)\n",
        "\n",
        "  theta[0] = theta[0]-alpha/n*st0\n",
        "  theta[1] = theta[1]-alpha/n*st1\n",
        "print(theta)"
      ],
      "metadata": {
        "colab": {
          "base_uri": "https://localhost:8080/"
        },
        "id": "OnSOYxPm-Q8s",
        "outputId": "2a7d0500-5754-4193-d15d-710c0566a56d"
      },
      "execution_count": null,
      "outputs": [
        {
          "output_type": "stream",
          "name": "stdout",
          "text": [
            "[array([-1.78588618, -0.13497275, -0.20344573]), array([ 0.5955104 , -0.28357959, -0.34042229])]\n"
          ]
        }
      ]
    },
    {
      "cell_type": "code",
      "source": [
        "n_train = len(y_train)\n",
        "n_validate = len(y_test)\n",
        "\n",
        "\n",
        "# Validación\n",
        "acumDelta = []\n",
        "for x_i, y_i in zip(x_test,y_test):\n",
        "  acumDelta.append(j_i(x_i,y_i,theta))  \n",
        "\n",
        "sDelta = sum(acumDelta)  \n",
        "J_validate = 1/(2*n_validate)*sDelta\n",
        "\n",
        "\n",
        "# Training\n",
        "acumDelta = []\n",
        "for x_i, y_i in zip(x_train,y_train):\n",
        "  acumDelta.append(j_i(x_i,y_i,theta))  \n",
        "\n",
        "sDelta = sum(acumDelta)  \n",
        "J_train = 1/(2*n_train)*sDelta\n",
        "\n",
        "print(J_validate)\n",
        "print(J_train)\n",
        "print(theta)\n",
        "\n",
        "\n",
        "labels = {\n",
        "    \"Class 1\" : [0.1,0.0,0.0],\n",
        "    \"Class 2\" : [0.0,0.1,0.0],\n",
        "    \"Class 3\" : [0.0,0.0,0.1]\n",
        "}\n",
        "\n",
        "\n",
        "results = h(x_test,theta)\n",
        "\n",
        "res = []\n",
        "val = []\n",
        "booleans = []\n",
        "booleans = np.array(booleans)\n",
        "for index in results:\n",
        "  res.append(np.argmax(index))\n",
        "np.reshape(results,-1)\n",
        "\n",
        "for index in y_test:\n",
        "  val.append(np.argmax(index))\n",
        "\n",
        "res = np.array(res)\n",
        "val = np.array(val)\n",
        "\n",
        "y_total = len(y_test)\n",
        "booleans = res==val\n",
        "true_y = booleans.sum()\n",
        "print(res)\n",
        "print(booleans.sum())\n",
        "print(booleans)\n",
        "print(\"\\nClassification Report\\n\")\n",
        "print(classification_report(val, res))\n",
        "\n",
        "\n",
        "\n",
        "n = len(y_train)"
      ],
      "metadata": {
        "colab": {
          "base_uri": "https://localhost:8080/"
        },
        "id": "MhAsHRW6Es5D",
        "outputId": "ae3bd9c6-c7db-4814-8ef6-96ffc98744d7"
      },
      "execution_count": null,
      "outputs": [
        {
          "output_type": "stream",
          "name": "stdout",
          "text": [
            "[-0.24063352 -0.32023635 -0.25034806]\n",
            "[-0.30773999 -0.31325278 -0.29714951]\n",
            "[array([-1.78588618, -0.13497275, -0.20344573]), array([ 0.5955104 , -0.28357959, -0.34042229])]\n",
            "[0 1 1 0 1 1 1 1 0 1 0 1 1 1 0 1 0 0 1 0 0 0 0 1 1 1 0]\n",
            "17\n",
            "[ True False  True  True  True  True  True False  True False  True False\n",
            "  True  True  True False  True False False  True  True  True  True False\n",
            "  True False False]\n",
            "\n",
            "Classification Report\n",
            "\n",
            "              precision    recall  f1-score   support\n",
            "\n",
            "           0       0.83      1.00      0.91        10\n",
            "           1       0.47      0.78      0.58         9\n",
            "           2       0.00      0.00      0.00         8\n",
            "\n",
            "    accuracy                           0.63        27\n",
            "   macro avg       0.43      0.59      0.50        27\n",
            "weighted avg       0.46      0.63      0.53        27\n",
            "\n"
          ]
        },
        {
          "output_type": "stream",
          "name": "stderr",
          "text": [
            "/usr/local/lib/python3.7/dist-packages/sklearn/metrics/_classification.py:1318: UndefinedMetricWarning: Precision and F-score are ill-defined and being set to 0.0 in labels with no predicted samples. Use `zero_division` parameter to control this behavior.\n",
            "  _warn_prf(average, modifier, msg_start, len(result))\n",
            "/usr/local/lib/python3.7/dist-packages/sklearn/metrics/_classification.py:1318: UndefinedMetricWarning: Precision and F-score are ill-defined and being set to 0.0 in labels with no predicted samples. Use `zero_division` parameter to control this behavior.\n",
            "  _warn_prf(average, modifier, msg_start, len(result))\n",
            "/usr/local/lib/python3.7/dist-packages/sklearn/metrics/_classification.py:1318: UndefinedMetricWarning: Precision and F-score are ill-defined and being set to 0.0 in labels with no predicted samples. Use `zero_division` parameter to control this behavior.\n",
            "  _warn_prf(average, modifier, msg_start, len(result))\n"
          ]
        }
      ]
    },
    {
      "cell_type": "code",
      "source": [
        "import seaborn as sns\n",
        "print(\"Predicciones: \", res)\n",
        "print(\"Valores reales: \", val)\n"
      ],
      "metadata": {
        "colab": {
          "base_uri": "https://localhost:8080/"
        },
        "id": "-pqFJT4HHQzc",
        "outputId": "5fbdb317-c553-4559-f43a-6792e2ff3935"
      },
      "execution_count": null,
      "outputs": [
        {
          "output_type": "stream",
          "name": "stdout",
          "text": [
            "Predicciones:  [0 1 1 0 1 1 1 1 0 1 0 1 1 1 0 1 0 0 1 0 0 0 0 1 1 1 0]\n",
            "Valores reales:  [0 2 1 0 1 1 1 2 0 2 0 2 1 1 0 2 0 1 2 0 0 0 0 2 1 2 1]\n"
          ]
        }
      ]
    }
  ]
}